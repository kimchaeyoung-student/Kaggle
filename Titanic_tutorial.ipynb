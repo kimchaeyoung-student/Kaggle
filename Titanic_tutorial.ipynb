{
  "nbformat": 4,
  "nbformat_minor": 0,
  "metadata": {
    "colab": {
      "name": "Titanic_tutorial.ipynb",
      "provenance": [],
      "authorship_tag": "ABX9TyOvWkxgeLXukutDDzl+y8T1",
      "include_colab_link": true
    },
    "kernelspec": {
      "name": "python3",
      "display_name": "Python 3"
    }
  },
  "cells": [
    {
      "cell_type": "markdown",
      "metadata": {
        "id": "view-in-github",
        "colab_type": "text"
      },
      "source": [
        "<a href=\"https://colab.research.google.com/github/kimchaeyoung-student/Kaggle/blob/master/Titanic_tutorial.ipynb\" target=\"_parent\"><img src=\"https://colab.research.google.com/assets/colab-badge.svg\" alt=\"Open In Colab\"/></a>"
      ]
    },
    {
      "cell_type": "markdown",
      "metadata": {
        "id": "H7rFbq9ds9RA",
        "colab_type": "text"
      },
      "source": [
        "# **Data Camp tutorial**\n",
        "### **<타이타닉호 승객 데이터 분석>**"
      ]
    },
    {
      "cell_type": "code",
      "metadata": {
        "id": "nnriQ3hJqkmq",
        "colab_type": "code",
        "colab": {}
      },
      "source": [
        "#pandas 라이브러리 불러오기\n",
        "\n",
        "import pandas as pd #as pd를 통해 pandas 를 pd로 줄여쓸 수 있음"
      ],
      "execution_count": 0,
      "outputs": []
    },
    {
      "cell_type": "code",
      "metadata": {
        "id": "ggYfp-hcqyhe",
        "colab_type": "code",
        "colab": {}
      },
      "source": [
        "train_url = \"http://s3.amazonaws.com/assets.datacamp.com/course/Kaggle/train.csv\"\n",
        "train = pd.read_csv(train_url)\n",
        "\n",
        "test_url = \"http://s3.amazonaws.com/assets.datacamp.com/course/Kaggle/test.csv\"\n",
        "test = pd.read_csv(test_url)\n",
        "\n",
        "#pandas에서 제공하는 DataFrame 형태로 데이터가 저장됨"
      ],
      "execution_count": 0,
      "outputs": []
    },
    {
      "cell_type": "code",
      "metadata": {
        "id": "HO0r1dTLrKk8",
        "colab_type": "code",
        "colab": {
          "base_uri": "https://localhost:8080/",
          "height": 284
        },
        "outputId": "61e0de33-ee68-451e-f2b6-691d3a56687d"
      },
      "source": [
        "train.describe()  #수치 데이터만 요약해서 보여줌"
      ],
      "execution_count": 5,
      "outputs": [
        {
          "output_type": "execute_result",
          "data": {
            "text/html": [
              "<div>\n",
              "<style scoped>\n",
              "    .dataframe tbody tr th:only-of-type {\n",
              "        vertical-align: middle;\n",
              "    }\n",
              "\n",
              "    .dataframe tbody tr th {\n",
              "        vertical-align: top;\n",
              "    }\n",
              "\n",
              "    .dataframe thead th {\n",
              "        text-align: right;\n",
              "    }\n",
              "</style>\n",
              "<table border=\"1\" class=\"dataframe\">\n",
              "  <thead>\n",
              "    <tr style=\"text-align: right;\">\n",
              "      <th></th>\n",
              "      <th>PassengerId</th>\n",
              "      <th>Survived</th>\n",
              "      <th>Pclass</th>\n",
              "      <th>Age</th>\n",
              "      <th>SibSp</th>\n",
              "      <th>Parch</th>\n",
              "      <th>Fare</th>\n",
              "    </tr>\n",
              "  </thead>\n",
              "  <tbody>\n",
              "    <tr>\n",
              "      <th>count</th>\n",
              "      <td>891.000000</td>\n",
              "      <td>891.000000</td>\n",
              "      <td>891.000000</td>\n",
              "      <td>714.000000</td>\n",
              "      <td>891.000000</td>\n",
              "      <td>891.000000</td>\n",
              "      <td>891.000000</td>\n",
              "    </tr>\n",
              "    <tr>\n",
              "      <th>mean</th>\n",
              "      <td>446.000000</td>\n",
              "      <td>0.383838</td>\n",
              "      <td>2.308642</td>\n",
              "      <td>29.699118</td>\n",
              "      <td>0.523008</td>\n",
              "      <td>0.381594</td>\n",
              "      <td>32.204208</td>\n",
              "    </tr>\n",
              "    <tr>\n",
              "      <th>std</th>\n",
              "      <td>257.353842</td>\n",
              "      <td>0.486592</td>\n",
              "      <td>0.836071</td>\n",
              "      <td>14.526497</td>\n",
              "      <td>1.102743</td>\n",
              "      <td>0.806057</td>\n",
              "      <td>49.693429</td>\n",
              "    </tr>\n",
              "    <tr>\n",
              "      <th>min</th>\n",
              "      <td>1.000000</td>\n",
              "      <td>0.000000</td>\n",
              "      <td>1.000000</td>\n",
              "      <td>0.420000</td>\n",
              "      <td>0.000000</td>\n",
              "      <td>0.000000</td>\n",
              "      <td>0.000000</td>\n",
              "    </tr>\n",
              "    <tr>\n",
              "      <th>25%</th>\n",
              "      <td>223.500000</td>\n",
              "      <td>0.000000</td>\n",
              "      <td>2.000000</td>\n",
              "      <td>20.125000</td>\n",
              "      <td>0.000000</td>\n",
              "      <td>0.000000</td>\n",
              "      <td>7.910400</td>\n",
              "    </tr>\n",
              "    <tr>\n",
              "      <th>50%</th>\n",
              "      <td>446.000000</td>\n",
              "      <td>0.000000</td>\n",
              "      <td>3.000000</td>\n",
              "      <td>28.000000</td>\n",
              "      <td>0.000000</td>\n",
              "      <td>0.000000</td>\n",
              "      <td>14.454200</td>\n",
              "    </tr>\n",
              "    <tr>\n",
              "      <th>75%</th>\n",
              "      <td>668.500000</td>\n",
              "      <td>1.000000</td>\n",
              "      <td>3.000000</td>\n",
              "      <td>38.000000</td>\n",
              "      <td>1.000000</td>\n",
              "      <td>0.000000</td>\n",
              "      <td>31.000000</td>\n",
              "    </tr>\n",
              "    <tr>\n",
              "      <th>max</th>\n",
              "      <td>891.000000</td>\n",
              "      <td>1.000000</td>\n",
              "      <td>3.000000</td>\n",
              "      <td>80.000000</td>\n",
              "      <td>8.000000</td>\n",
              "      <td>6.000000</td>\n",
              "      <td>512.329200</td>\n",
              "    </tr>\n",
              "  </tbody>\n",
              "</table>\n",
              "</div>"
            ],
            "text/plain": [
              "       PassengerId    Survived      Pclass  ...       SibSp       Parch        Fare\n",
              "count   891.000000  891.000000  891.000000  ...  891.000000  891.000000  891.000000\n",
              "mean    446.000000    0.383838    2.308642  ...    0.523008    0.381594   32.204208\n",
              "std     257.353842    0.486592    0.836071  ...    1.102743    0.806057   49.693429\n",
              "min       1.000000    0.000000    1.000000  ...    0.000000    0.000000    0.000000\n",
              "25%     223.500000    0.000000    2.000000  ...    0.000000    0.000000    7.910400\n",
              "50%     446.000000    0.000000    3.000000  ...    0.000000    0.000000   14.454200\n",
              "75%     668.500000    1.000000    3.000000  ...    1.000000    0.000000   31.000000\n",
              "max     891.000000    1.000000    3.000000  ...    8.000000    6.000000  512.329200\n",
              "\n",
              "[8 rows x 7 columns]"
            ]
          },
          "metadata": {
            "tags": []
          },
          "execution_count": 5
        }
      ]
    },
    {
      "cell_type": "code",
      "metadata": {
        "id": "Kj2_h7FhrPmE",
        "colab_type": "code",
        "colab": {
          "base_uri": "https://localhost:8080/",
          "height": 34
        },
        "outputId": "26e58540-e1e7-49fb-fc17-225deb439e0c"
      },
      "source": [
        "train.shape #해당 데이터셋의 행과 열이 몇개인지 알려줌"
      ],
      "execution_count": 6,
      "outputs": [
        {
          "output_type": "execute_result",
          "data": {
            "text/plain": [
              "(891, 12)"
            ]
          },
          "metadata": {
            "tags": []
          },
          "execution_count": 6
        }
      ]
    },
    {
      "cell_type": "markdown",
      "metadata": {
        "id": "u5qbhq0Uvw44",
        "colab_type": "text"
      },
      "source": [
        "### **사람의 생존율**"
      ]
    },
    {
      "cell_type": "code",
      "metadata": {
        "id": "hhc5H_GSvYXV",
        "colab_type": "code",
        "colab": {
          "base_uri": "https://localhost:8080/",
          "height": 70
        },
        "outputId": "84e3cd8a-6a4e-4ddb-8fcb-794b2e580454"
      },
      "source": [
        "train[\"Survived\"].value_counts()\n",
        "\n",
        "#value_counts() 함수를 호출하면 절대값으로 결과를 돌려줌\n",
        "\n",
        "#Survived == 0 : 사람이 죽었다.\n",
        "#Survived == 1 : 사람이 살았다."
      ],
      "execution_count": 7,
      "outputs": [
        {
          "output_type": "execute_result",
          "data": {
            "text/plain": [
              "0    549\n",
              "1    342\n",
              "Name: Survived, dtype: int64"
            ]
          },
          "metadata": {
            "tags": []
          },
          "execution_count": 7
        }
      ]
    },
    {
      "cell_type": "code",
      "metadata": {
        "id": "2Gahd-ALxM7Z",
        "colab_type": "code",
        "colab": {
          "base_uri": "https://localhost:8080/",
          "height": 70
        },
        "outputId": "fc241f0d-68e0-43fd-cf17-39b88c19b4fc"
      },
      "source": [
        "train[\"Survived\"].value_counts(normalize = True)\n",
        "\n",
        "#normalize 옵션을 True로 설정하면 퍼센트(%)로 결과를 리턴"
      ],
      "execution_count": 8,
      "outputs": [
        {
          "output_type": "execute_result",
          "data": {
            "text/plain": [
              "0    0.616162\n",
              "1    0.383838\n",
              "Name: Survived, dtype: float64"
            ]
          },
          "metadata": {
            "tags": []
          },
          "execution_count": 8
        }
      ]
    },
    {
      "cell_type": "markdown",
      "metadata": {
        "id": "1dedVrbOx3O5",
        "colab_type": "text"
      },
      "source": [
        "### **성별에 따른 생존율**"
      ]
    },
    {
      "cell_type": "code",
      "metadata": {
        "id": "_PsqocT8yDhV",
        "colab_type": "code",
        "colab": {
          "base_uri": "https://localhost:8080/",
          "height": 70
        },
        "outputId": "ae8265d6-bf04-42ff-f8c4-a6d7d8b6f387"
      },
      "source": [
        "train['Survived'][train['Sex'] == 'male'].value_counts(normalize=True)\n",
        "\n",
        "#train[\"Sex\"] == 'male' : train 데이터 개수만큼 boolean vector가 리턴됨.\n",
        "#값은 해당 데이터의 성별이 남성인 데이터는 True, 아니면 False를 가짐.\n",
        "#이 boolean vector로 indexing을 하게 되면 True 데이터들만 indexing 할 수 있음."
      ],
      "execution_count": 9,
      "outputs": [
        {
          "output_type": "execute_result",
          "data": {
            "text/plain": [
              "0    0.811092\n",
              "1    0.188908\n",
              "Name: Survived, dtype: float64"
            ]
          },
          "metadata": {
            "tags": []
          },
          "execution_count": 9
        }
      ]
    },
    {
      "cell_type": "code",
      "metadata": {
        "id": "OEKL-5S9zZvW",
        "colab_type": "code",
        "colab": {
          "base_uri": "https://localhost:8080/",
          "height": 70
        },
        "outputId": "5f9b4b4b-0d43-4a83-97cb-b4b34b927fc6"
      },
      "source": [
        "train['Survived'][train['Sex'] == 'female'].value_counts(normalize=True)"
      ],
      "execution_count": 10,
      "outputs": [
        {
          "output_type": "execute_result",
          "data": {
            "text/plain": [
              "1    0.742038\n",
              "0    0.257962\n",
              "Name: Survived, dtype: float64"
            ]
          },
          "metadata": {
            "tags": []
          },
          "execution_count": 10
        }
      ]
    },
    {
      "cell_type": "markdown",
      "metadata": {
        "id": "9-dAR3ktzb6T",
        "colab_type": "text"
      },
      "source": [
        "남성 생존율 : 약 19%, 여성 생존율 : 약 74%\n",
        "\n",
        "**남자는 무조건 죽고, 여자는 무조건 산다**고 예측한 것이 **모두 죽는다**고 예측한 정확도 보다 높다.\n",
        "\n",
        "(모두 죽는다고 예측했을 때의 정확도 : 약 62%)"
      ]
    },
    {
      "cell_type": "markdown",
      "metadata": {
        "id": "-HUvTiXg0aFY",
        "colab_type": "text"
      },
      "source": [
        "### **나이에 따른 생존율**\n",
        "\n",
        "(18세 미만과 이상으로 나누어서 분석)"
      ]
    },
    {
      "cell_type": "code",
      "metadata": {
        "id": "HRKHJYWt0r7q",
        "colab_type": "code",
        "colab": {}
      },
      "source": [
        "train[\"Child\"] = float('NaN')\n",
        "\n",
        "#train data set에 ‘Child’라는 열이 생성되고, 값은 전부 NaN으로 채워짐"
      ],
      "execution_count": 0,
      "outputs": []
    },
    {
      "cell_type": "code",
      "metadata": {
        "id": "VTcUnbxr2KtK",
        "colab_type": "code",
        "colab": {
          "base_uri": "https://localhost:8080/",
          "height": 193
        },
        "outputId": "e19d1e57-dbde-4438-c1ce-1dd43250380d"
      },
      "source": [
        "train[\"Child\"][train['Age'] < 18] = 1\n",
        "train[\"Child\"][train['Age'] >= 18] = 0"
      ],
      "execution_count": 28,
      "outputs": [
        {
          "output_type": "stream",
          "text": [
            "/usr/local/lib/python3.6/dist-packages/ipykernel_launcher.py:1: SettingWithCopyWarning: \n",
            "A value is trying to be set on a copy of a slice from a DataFrame\n",
            "\n",
            "See the caveats in the documentation: https://pandas.pydata.org/pandas-docs/stable/user_guide/indexing.html#returning-a-view-versus-a-copy\n",
            "  \"\"\"Entry point for launching an IPython kernel.\n",
            "/usr/local/lib/python3.6/dist-packages/ipykernel_launcher.py:2: SettingWithCopyWarning: \n",
            "A value is trying to be set on a copy of a slice from a DataFrame\n",
            "\n",
            "See the caveats in the documentation: https://pandas.pydata.org/pandas-docs/stable/user_guide/indexing.html#returning-a-view-versus-a-copy\n",
            "  \n"
          ],
          "name": "stderr"
        }
      ]
    },
    {
      "cell_type": "markdown",
      "metadata": {
        "id": "-4yRnjnR1S9i",
        "colab_type": "text"
      },
      "source": [
        "(위에서 NaN이 그대로 남아있는 경우는 해당 승객의 Age값이 존재하지 않았기 때문.\n",
        "\n",
        "데이터 분석을 하다보면 위와 같이 없는 데이터가 많으므로, 단순히 boolean으로 표현하면 안됨!)"
      ]
    },
    {
      "cell_type": "code",
      "metadata": {
        "id": "xU90k9CD1tse",
        "colab_type": "code",
        "colab": {
          "base_uri": "https://localhost:8080/",
          "height": 70
        },
        "outputId": "d0093e91-1366-4317-9ae9-fda993f93bf7"
      },
      "source": [
        "print(train[\"Survived\"][train[\"Child\"] == 1].value_counts(normalize = True))\n",
        "\n",
        "#18세 미만의 생존율"
      ],
      "execution_count": 29,
      "outputs": [
        {
          "output_type": "stream",
          "text": [
            "1    0.539823\n",
            "0    0.460177\n",
            "Name: Survived, dtype: float64\n"
          ],
          "name": "stdout"
        }
      ]
    },
    {
      "cell_type": "code",
      "metadata": {
        "id": "cbJHNOfO3i9u",
        "colab_type": "code",
        "colab": {
          "base_uri": "https://localhost:8080/",
          "height": 70
        },
        "outputId": "0b6898ba-0336-4a0d-91cf-c9a0875a0a9a"
      },
      "source": [
        "print(train[\"Survived\"][train[\"Child\"] == 0].value_counts(normalize = True))\n",
        "\n",
        "#18세 이상의 생존율"
      ],
      "execution_count": 30,
      "outputs": [
        {
          "output_type": "stream",
          "text": [
            "0    0.618968\n",
            "1    0.381032\n",
            "Name: Survived, dtype: float64\n"
          ],
          "name": "stdout"
        }
      ]
    },
    {
      "cell_type": "markdown",
      "metadata": {
        "id": "JJJcQ_UG3xkN",
        "colab_type": "text"
      },
      "source": [
        "18세 미만의 생존율 : 54%\n",
        "\n",
        "18세 이상의 생존율 : 38%\n",
        "\n",
        "성별에 따른 생존율보다는 적은 차이를 보인다."
      ]
    }
  ]
}